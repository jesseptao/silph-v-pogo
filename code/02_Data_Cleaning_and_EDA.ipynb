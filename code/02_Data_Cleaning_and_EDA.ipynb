{
 "cells": [
  {
   "cell_type": "markdown",
   "metadata": {},
   "source": [
    "# Data Cleaning and EDA"
   ]
  },
  {
   "cell_type": "markdown",
   "metadata": {},
   "source": [
    "Here we will take a closer look at the posts we have collected from TheSilphRoad and pokemongo subreddits.  "
   ]
  },
  {
   "cell_type": "code",
   "execution_count": 104,
   "metadata": {},
   "outputs": [],
   "source": [
    "# import libraries\n",
    "import pandas as pd\n",
    "import numpy as np \n",
    "import matplotlib.pyplot as plt\n",
    "import seaborn as sns\n",
    "import re\n",
    "import textwrap\n",
    "\n",
    "from emot.emo_unicode import UNICODE_EMO, EMOTICONS\n",
    "from sklearn.feature_extraction.text import CountVectorizer\n",
    "from nltk.tokenize import RegexpTokenizer\n",
    "from nltk.corpus import stopwords"
   ]
  },
  {
   "cell_type": "code",
   "execution_count": 77,
   "metadata": {},
   "outputs": [],
   "source": [
    "# import status data\n",
    "silph_df = pd.read_csv('../data/silph.csv')\n",
    "pogo_df = pd.read_csv('../data/pogo.csv')"
   ]
  },
  {
   "cell_type": "code",
   "execution_count": 78,
   "metadata": {},
   "outputs": [
    {
     "data": {
      "text/html": [
       "<div>\n",
       "<style scoped>\n",
       "    .dataframe tbody tr th:only-of-type {\n",
       "        vertical-align: middle;\n",
       "    }\n",
       "\n",
       "    .dataframe tbody tr th {\n",
       "        vertical-align: top;\n",
       "    }\n",
       "\n",
       "    .dataframe thead th {\n",
       "        text-align: right;\n",
       "    }\n",
       "</style>\n",
       "<table border=\"1\" class=\"dataframe\">\n",
       "  <thead>\n",
       "    <tr style=\"text-align: right;\">\n",
       "      <th></th>\n",
       "      <th>selftext</th>\n",
       "      <th>title</th>\n",
       "      <th>subreddit</th>\n",
       "    </tr>\n",
       "  </thead>\n",
       "  <tbody>\n",
       "    <tr>\n",
       "      <th>0</th>\n",
       "      <td>Has anybody found a permanent fix to not being...</td>\n",
       "      <td>Fix to not being able to attack?</td>\n",
       "      <td>TheSilphRoad</td>\n",
       "    </tr>\n",
       "    <tr>\n",
       "      <th>1</th>\n",
       "      <td>2 raids today where my attacks wouldn’t regist...</td>\n",
       "      <td>Attack glitch during Regi raids</td>\n",
       "      <td>TheSilphRoad</td>\n",
       "    </tr>\n",
       "    <tr>\n",
       "      <th>2</th>\n",
       "      <td>I’ve had a Pokémon defending a gym for over 36...</td>\n",
       "      <td>[Bug?] Can’t seem to earn or collect pokecoins...</td>\n",
       "      <td>TheSilphRoad</td>\n",
       "    </tr>\n",
       "    <tr>\n",
       "      <th>3</th>\n",
       "      <td>Using an iPhone 11, so it is not an old phone ...</td>\n",
       "      <td>[Bug?] AR suddenly freezes</td>\n",
       "      <td>TheSilphRoad</td>\n",
       "    </tr>\n",
       "    <tr>\n",
       "      <th>4</th>\n",
       "      <td>For any data nerds I wanted to give my persona...</td>\n",
       "      <td>3 hour incense event personal results</td>\n",
       "      <td>TheSilphRoad</td>\n",
       "    </tr>\n",
       "  </tbody>\n",
       "</table>\n",
       "</div>"
      ],
      "text/plain": [
       "                                            selftext  \\\n",
       "0  Has anybody found a permanent fix to not being...   \n",
       "1  2 raids today where my attacks wouldn’t regist...   \n",
       "2  I’ve had a Pokémon defending a gym for over 36...   \n",
       "3  Using an iPhone 11, so it is not an old phone ...   \n",
       "4  For any data nerds I wanted to give my persona...   \n",
       "\n",
       "                                               title     subreddit  \n",
       "0                   Fix to not being able to attack?  TheSilphRoad  \n",
       "1                    Attack glitch during Regi raids  TheSilphRoad  \n",
       "2  [Bug?] Can’t seem to earn or collect pokecoins...  TheSilphRoad  \n",
       "3                         [Bug?] AR suddenly freezes  TheSilphRoad  \n",
       "4              3 hour incense event personal results  TheSilphRoad  "
      ]
     },
     "execution_count": 78,
     "metadata": {},
     "output_type": "execute_result"
    }
   ],
   "source": [
    "silph_df.head()"
   ]
  },
  {
   "cell_type": "code",
   "execution_count": 79,
   "metadata": {},
   "outputs": [
    {
     "data": {
      "text/html": [
       "<div>\n",
       "<style scoped>\n",
       "    .dataframe tbody tr th:only-of-type {\n",
       "        vertical-align: middle;\n",
       "    }\n",
       "\n",
       "    .dataframe tbody tr th {\n",
       "        vertical-align: top;\n",
       "    }\n",
       "\n",
       "    .dataframe thead th {\n",
       "        text-align: right;\n",
       "    }\n",
       "</style>\n",
       "<table border=\"1\" class=\"dataframe\">\n",
       "  <thead>\n",
       "    <tr style=\"text-align: right;\">\n",
       "      <th></th>\n",
       "      <th>selftext</th>\n",
       "      <th>title</th>\n",
       "      <th>subreddit</th>\n",
       "    </tr>\n",
       "  </thead>\n",
       "  <tbody>\n",
       "    <tr>\n",
       "      <th>0</th>\n",
       "      <td>Should I power up my 1103 cp charmeleon to 116...</td>\n",
       "      <td>Pokemon evolution question regarding cp potent...</td>\n",
       "      <td>pokemongo</td>\n",
       "    </tr>\n",
       "    <tr>\n",
       "      <th>1</th>\n",
       "      <td>I live in an empty area with a decent amount o...</td>\n",
       "      <td>Im mad and just got scammed...</td>\n",
       "      <td>pokemongo</td>\n",
       "    </tr>\n",
       "    <tr>\n",
       "      <th>2</th>\n",
       "      <td>I need to get sunkern or exeggcute for the mel...</td>\n",
       "      <td>Need help in getting sunkern/ exeggcute</td>\n",
       "      <td>pokemongo</td>\n",
       "    </tr>\n",
       "    <tr>\n",
       "      <th>3</th>\n",
       "      <td>My girlfriend recently got the Samsung Note 20...</td>\n",
       "      <td>Weird new glitch</td>\n",
       "      <td>pokemongo</td>\n",
       "    </tr>\n",
       "    <tr>\n",
       "      <th>4</th>\n",
       "      <td>i dont live in range of a gym, just one pokest...</td>\n",
       "      <td>pokestops by me</td>\n",
       "      <td>pokemongo</td>\n",
       "    </tr>\n",
       "  </tbody>\n",
       "</table>\n",
       "</div>"
      ],
      "text/plain": [
       "                                            selftext  \\\n",
       "0  Should I power up my 1103 cp charmeleon to 116...   \n",
       "1  I live in an empty area with a decent amount o...   \n",
       "2  I need to get sunkern or exeggcute for the mel...   \n",
       "3  My girlfriend recently got the Samsung Note 20...   \n",
       "4  i dont live in range of a gym, just one pokest...   \n",
       "\n",
       "                                               title  subreddit  \n",
       "0  Pokemon evolution question regarding cp potent...  pokemongo  \n",
       "1                     Im mad and just got scammed...  pokemongo  \n",
       "2            Need help in getting sunkern/ exeggcute  pokemongo  \n",
       "3                                   Weird new glitch  pokemongo  \n",
       "4                                    pokestops by me  pokemongo  "
      ]
     },
     "execution_count": 79,
     "metadata": {},
     "output_type": "execute_result"
    }
   ],
   "source": [
    "pogo_df.head()"
   ]
  },
  {
   "cell_type": "code",
   "execution_count": 80,
   "metadata": {},
   "outputs": [],
   "source": [
    "# make sure that text is string to use tokenizers\n",
    "silph_df = silph_df.astype(str)\n",
    "pogo_df = pogo_df.astype(str)"
   ]
  },
  {
   "cell_type": "code",
   "execution_count": 81,
   "metadata": {},
   "outputs": [
    {
     "data": {
      "text/html": [
       "<div>\n",
       "<style scoped>\n",
       "    .dataframe tbody tr th:only-of-type {\n",
       "        vertical-align: middle;\n",
       "    }\n",
       "\n",
       "    .dataframe tbody tr th {\n",
       "        vertical-align: top;\n",
       "    }\n",
       "\n",
       "    .dataframe thead th {\n",
       "        text-align: right;\n",
       "    }\n",
       "</style>\n",
       "<table border=\"1\" class=\"dataframe\">\n",
       "  <thead>\n",
       "    <tr style=\"text-align: right;\">\n",
       "      <th></th>\n",
       "      <th>selftext</th>\n",
       "      <th>title</th>\n",
       "      <th>subreddit</th>\n",
       "      <th>selftext_word_length</th>\n",
       "      <th>title_word_length</th>\n",
       "    </tr>\n",
       "  </thead>\n",
       "  <tbody>\n",
       "    <tr>\n",
       "      <th>0</th>\n",
       "      <td>Has anybody found a permanent fix to not being...</td>\n",
       "      <td>Fix to not being able to attack?</td>\n",
       "      <td>TheSilphRoad</td>\n",
       "      <td>16</td>\n",
       "      <td>7</td>\n",
       "    </tr>\n",
       "    <tr>\n",
       "      <th>1</th>\n",
       "      <td>2 raids today where my attacks wouldn’t regist...</td>\n",
       "      <td>Attack glitch during Regi raids</td>\n",
       "      <td>TheSilphRoad</td>\n",
       "      <td>44</td>\n",
       "      <td>5</td>\n",
       "    </tr>\n",
       "    <tr>\n",
       "      <th>2</th>\n",
       "      <td>I’ve had a Pokémon defending a gym for over 36...</td>\n",
       "      <td>[Bug?] Can’t seem to earn or collect pokecoins...</td>\n",
       "      <td>TheSilphRoad</td>\n",
       "      <td>36</td>\n",
       "      <td>13</td>\n",
       "    </tr>\n",
       "    <tr>\n",
       "      <th>3</th>\n",
       "      <td>Using an iPhone 11, so it is not an old phone ...</td>\n",
       "      <td>[Bug?] AR suddenly freezes</td>\n",
       "      <td>TheSilphRoad</td>\n",
       "      <td>120</td>\n",
       "      <td>4</td>\n",
       "    </tr>\n",
       "    <tr>\n",
       "      <th>4</th>\n",
       "      <td>For any data nerds I wanted to give my persona...</td>\n",
       "      <td>3 hour incense event personal results</td>\n",
       "      <td>TheSilphRoad</td>\n",
       "      <td>142</td>\n",
       "      <td>6</td>\n",
       "    </tr>\n",
       "  </tbody>\n",
       "</table>\n",
       "</div>"
      ],
      "text/plain": [
       "                                            selftext  \\\n",
       "0  Has anybody found a permanent fix to not being...   \n",
       "1  2 raids today where my attacks wouldn’t regist...   \n",
       "2  I’ve had a Pokémon defending a gym for over 36...   \n",
       "3  Using an iPhone 11, so it is not an old phone ...   \n",
       "4  For any data nerds I wanted to give my persona...   \n",
       "\n",
       "                                               title     subreddit  \\\n",
       "0                   Fix to not being able to attack?  TheSilphRoad   \n",
       "1                    Attack glitch during Regi raids  TheSilphRoad   \n",
       "2  [Bug?] Can’t seem to earn or collect pokecoins...  TheSilphRoad   \n",
       "3                         [Bug?] AR suddenly freezes  TheSilphRoad   \n",
       "4              3 hour incense event personal results  TheSilphRoad   \n",
       "\n",
       "   selftext_word_length  title_word_length  \n",
       "0                    16                  7  \n",
       "1                    44                  5  \n",
       "2                    36                 13  \n",
       "3                   120                  4  \n",
       "4                   142                  6  "
      ]
     },
     "execution_count": 81,
     "metadata": {},
     "output_type": "execute_result"
    }
   ],
   "source": [
    "# check lengths of selftext and title\n",
    "silph_df['selftext_word_length'] = [len(RegexpTokenizer(r\"[\\w'-]+\").tokenize(i)) for i in silph_df['selftext']]\n",
    "silph_df['title_word_length'] = [len(RegexpTokenizer(r\"[\\w'-]+\").tokenize(i)) for i in silph_df['title']]\n",
    "silph_df.head()"
   ]
  },
  {
   "cell_type": "code",
   "execution_count": 82,
   "metadata": {},
   "outputs": [
    {
     "data": {
      "text/html": [
       "<div>\n",
       "<style scoped>\n",
       "    .dataframe tbody tr th:only-of-type {\n",
       "        vertical-align: middle;\n",
       "    }\n",
       "\n",
       "    .dataframe tbody tr th {\n",
       "        vertical-align: top;\n",
       "    }\n",
       "\n",
       "    .dataframe thead th {\n",
       "        text-align: right;\n",
       "    }\n",
       "</style>\n",
       "<table border=\"1\" class=\"dataframe\">\n",
       "  <thead>\n",
       "    <tr style=\"text-align: right;\">\n",
       "      <th></th>\n",
       "      <th>selftext</th>\n",
       "      <th>title</th>\n",
       "      <th>subreddit</th>\n",
       "      <th>selftext_word_length</th>\n",
       "      <th>title_word_length</th>\n",
       "    </tr>\n",
       "  </thead>\n",
       "  <tbody>\n",
       "    <tr>\n",
       "      <th>0</th>\n",
       "      <td>Should I power up my 1103 cp charmeleon to 116...</td>\n",
       "      <td>Pokemon evolution question regarding cp potent...</td>\n",
       "      <td>pokemongo</td>\n",
       "      <td>32</td>\n",
       "      <td>9</td>\n",
       "    </tr>\n",
       "    <tr>\n",
       "      <th>1</th>\n",
       "      <td>I live in an empty area with a decent amount o...</td>\n",
       "      <td>Im mad and just got scammed...</td>\n",
       "      <td>pokemongo</td>\n",
       "      <td>143</td>\n",
       "      <td>6</td>\n",
       "    </tr>\n",
       "    <tr>\n",
       "      <th>2</th>\n",
       "      <td>I need to get sunkern or exeggcute for the mel...</td>\n",
       "      <td>Need help in getting sunkern/ exeggcute</td>\n",
       "      <td>pokemongo</td>\n",
       "      <td>25</td>\n",
       "      <td>6</td>\n",
       "    </tr>\n",
       "    <tr>\n",
       "      <th>3</th>\n",
       "      <td>My girlfriend recently got the Samsung Note 20...</td>\n",
       "      <td>Weird new glitch</td>\n",
       "      <td>pokemongo</td>\n",
       "      <td>95</td>\n",
       "      <td>3</td>\n",
       "    </tr>\n",
       "    <tr>\n",
       "      <th>4</th>\n",
       "      <td>i dont live in range of a gym, just one pokest...</td>\n",
       "      <td>pokestops by me</td>\n",
       "      <td>pokemongo</td>\n",
       "      <td>62</td>\n",
       "      <td>3</td>\n",
       "    </tr>\n",
       "  </tbody>\n",
       "</table>\n",
       "</div>"
      ],
      "text/plain": [
       "                                            selftext  \\\n",
       "0  Should I power up my 1103 cp charmeleon to 116...   \n",
       "1  I live in an empty area with a decent amount o...   \n",
       "2  I need to get sunkern or exeggcute for the mel...   \n",
       "3  My girlfriend recently got the Samsung Note 20...   \n",
       "4  i dont live in range of a gym, just one pokest...   \n",
       "\n",
       "                                               title  subreddit  \\\n",
       "0  Pokemon evolution question regarding cp potent...  pokemongo   \n",
       "1                     Im mad and just got scammed...  pokemongo   \n",
       "2            Need help in getting sunkern/ exeggcute  pokemongo   \n",
       "3                                   Weird new glitch  pokemongo   \n",
       "4                                    pokestops by me  pokemongo   \n",
       "\n",
       "   selftext_word_length  title_word_length  \n",
       "0                    32                  9  \n",
       "1                   143                  6  \n",
       "2                    25                  6  \n",
       "3                    95                  3  \n",
       "4                    62                  3  "
      ]
     },
     "execution_count": 82,
     "metadata": {},
     "output_type": "execute_result"
    }
   ],
   "source": [
    "pogo_df['selftext_word_length'] = [len(RegexpTokenizer(r\"[\\w'-]+\").tokenize(i)) for i in pogo_df['selftext']]\n",
    "pogo_df['title_word_length'] = [len(RegexpTokenizer(r\"[\\w'-]+\").tokenize(i)) for i in pogo_df['title']]\n",
    "pogo_df.head()"
   ]
  },
  {
   "cell_type": "code",
   "execution_count": 83,
   "metadata": {},
   "outputs": [
    {
     "data": {
      "text/html": [
       "<div>\n",
       "<style scoped>\n",
       "    .dataframe tbody tr th:only-of-type {\n",
       "        vertical-align: middle;\n",
       "    }\n",
       "\n",
       "    .dataframe tbody tr th {\n",
       "        vertical-align: top;\n",
       "    }\n",
       "\n",
       "    .dataframe thead th {\n",
       "        text-align: right;\n",
       "    }\n",
       "</style>\n",
       "<table border=\"1\" class=\"dataframe\">\n",
       "  <thead>\n",
       "    <tr style=\"text-align: right;\">\n",
       "      <th></th>\n",
       "      <th>selftext_word_length</th>\n",
       "      <th>title_word_length</th>\n",
       "    </tr>\n",
       "  </thead>\n",
       "  <tbody>\n",
       "    <tr>\n",
       "      <th>count</th>\n",
       "      <td>8701.000000</td>\n",
       "      <td>8701.000000</td>\n",
       "    </tr>\n",
       "    <tr>\n",
       "      <th>mean</th>\n",
       "      <td>63.383634</td>\n",
       "      <td>7.298701</td>\n",
       "    </tr>\n",
       "    <tr>\n",
       "      <th>std</th>\n",
       "      <td>85.732012</td>\n",
       "      <td>5.657613</td>\n",
       "    </tr>\n",
       "    <tr>\n",
       "      <th>min</th>\n",
       "      <td>1.000000</td>\n",
       "      <td>1.000000</td>\n",
       "    </tr>\n",
       "    <tr>\n",
       "      <th>25%</th>\n",
       "      <td>31.000000</td>\n",
       "      <td>4.000000</td>\n",
       "    </tr>\n",
       "    <tr>\n",
       "      <th>50%</th>\n",
       "      <td>46.000000</td>\n",
       "      <td>6.000000</td>\n",
       "    </tr>\n",
       "    <tr>\n",
       "      <th>75%</th>\n",
       "      <td>71.000000</td>\n",
       "      <td>9.000000</td>\n",
       "    </tr>\n",
       "    <tr>\n",
       "      <th>max</th>\n",
       "      <td>4898.000000</td>\n",
       "      <td>62.000000</td>\n",
       "    </tr>\n",
       "  </tbody>\n",
       "</table>\n",
       "</div>"
      ],
      "text/plain": [
       "       selftext_word_length  title_word_length\n",
       "count           8701.000000        8701.000000\n",
       "mean              63.383634           7.298701\n",
       "std               85.732012           5.657613\n",
       "min                1.000000           1.000000\n",
       "25%               31.000000           4.000000\n",
       "50%               46.000000           6.000000\n",
       "75%               71.000000           9.000000\n",
       "max             4898.000000          62.000000"
      ]
     },
     "execution_count": 83,
     "metadata": {},
     "output_type": "execute_result"
    }
   ],
   "source": [
    "pogo_df.describe()"
   ]
  },
  {
   "cell_type": "code",
   "execution_count": 84,
   "metadata": {},
   "outputs": [
    {
     "data": {
      "text/html": [
       "<div>\n",
       "<style scoped>\n",
       "    .dataframe tbody tr th:only-of-type {\n",
       "        vertical-align: middle;\n",
       "    }\n",
       "\n",
       "    .dataframe tbody tr th {\n",
       "        vertical-align: top;\n",
       "    }\n",
       "\n",
       "    .dataframe thead th {\n",
       "        text-align: right;\n",
       "    }\n",
       "</style>\n",
       "<table border=\"1\" class=\"dataframe\">\n",
       "  <thead>\n",
       "    <tr style=\"text-align: right;\">\n",
       "      <th></th>\n",
       "      <th>selftext_word_length</th>\n",
       "      <th>title_word_length</th>\n",
       "    </tr>\n",
       "  </thead>\n",
       "  <tbody>\n",
       "    <tr>\n",
       "      <th>count</th>\n",
       "      <td>10683.000000</td>\n",
       "      <td>10683.000000</td>\n",
       "    </tr>\n",
       "    <tr>\n",
       "      <th>mean</th>\n",
       "      <td>90.162314</td>\n",
       "      <td>8.925115</td>\n",
       "    </tr>\n",
       "    <tr>\n",
       "      <th>std</th>\n",
       "      <td>267.365512</td>\n",
       "      <td>6.213454</td>\n",
       "    </tr>\n",
       "    <tr>\n",
       "      <th>min</th>\n",
       "      <td>0.000000</td>\n",
       "      <td>1.000000</td>\n",
       "    </tr>\n",
       "    <tr>\n",
       "      <th>25%</th>\n",
       "      <td>24.000000</td>\n",
       "      <td>5.000000</td>\n",
       "    </tr>\n",
       "    <tr>\n",
       "      <th>50%</th>\n",
       "      <td>45.000000</td>\n",
       "      <td>7.000000</td>\n",
       "    </tr>\n",
       "    <tr>\n",
       "      <th>75%</th>\n",
       "      <td>82.000000</td>\n",
       "      <td>11.000000</td>\n",
       "    </tr>\n",
       "    <tr>\n",
       "      <th>max</th>\n",
       "      <td>6650.000000</td>\n",
       "      <td>61.000000</td>\n",
       "    </tr>\n",
       "  </tbody>\n",
       "</table>\n",
       "</div>"
      ],
      "text/plain": [
       "       selftext_word_length  title_word_length\n",
       "count          10683.000000       10683.000000\n",
       "mean              90.162314           8.925115\n",
       "std              267.365512           6.213454\n",
       "min                0.000000           1.000000\n",
       "25%               24.000000           5.000000\n",
       "50%               45.000000           7.000000\n",
       "75%               82.000000          11.000000\n",
       "max             6650.000000          61.000000"
      ]
     },
     "execution_count": 84,
     "metadata": {},
     "output_type": "execute_result"
    }
   ],
   "source": [
    "silph_df.describe()"
   ]
  },
  {
   "cell_type": "markdown",
   "metadata": {},
   "source": [
    "Here we see that while TheSilphRoad posts on average are slightly longer than pokemongo subreddit posts, the 50 percentile self text length is almost the same between the two. From this we can conclude that building a model using post length probably won't perform well, as the similarity between the 2 subreddits is too strong. "
   ]
  },
  {
   "cell_type": "code",
   "execution_count": 85,
   "metadata": {},
   "outputs": [],
   "source": [
    "# remove emojis and emoticons from posts\n",
    "# thanks to this article for emoji unicode codes and removing : https://towardsdatascience.com/text-preprocessing-for-data-scientist-3d2419c8199d\n",
    "\n",
    "def remove_emoji(string):\n",
    "    emojis = re.compile(\"[\"\n",
    "                        u\"\\U0001F600-\\U0001F64F\"  # emoticons\n",
    "                        u\"\\U0001F300-\\U0001F5FF\"  # symbols & pictographs\n",
    "                        u\"\\U0001F680-\\U0001F6FF\"  # transport & map symbols\n",
    "                        u\"\\U0001F1E0-\\U0001F1FF\"  # flags (iOS)\n",
    "                        \"]+\", flags=re.UNICODE)\n",
    "    return emojis.sub(r'', string)\n",
    "    \n",
    "def remove_emoticons(text):\n",
    "    emoticon_pattern = re.compile(u'(' + u'|'.join(k for k in EMOTICONS) + u')')\n",
    "    return emoticon_pattern.sub(r'', text)\n",
    "    \n",
    "silph_df['selftext'] = silph_df['selftext'].apply(remove_emoji)\n",
    "silph_df['title'] = silph_df['title'].apply(remove_emoji)\n",
    "pogo_df['selftext'] = pogo_df['selftext'].apply(remove_emoji)\n",
    "pogo_df['title'] = pogo_df['title'].apply(remove_emoji)\n",
    "\n",
    "silph_df['selftext'] = silph_df['selftext'].apply(remove_emoticons)\n",
    "silph_df['title'] = silph_df['title'].apply(remove_emoticons)\n",
    "pogo_df['selftext'] = pogo_df['selftext'].apply(remove_emoticons)\n",
    "pogo_df['title'] = pogo_df['title'].apply(remove_emoticons)"
   ]
  },
  {
   "cell_type": "code",
   "execution_count": 106,
   "metadata": {},
   "outputs": [
    {
     "data": {
      "image/png": "[encoded data removed]",
      "text/plain": [
       "<Figure size 1440x864 with 2 Axes>"
      ]
     },
     "metadata": {
      "needs_background": "light"
     },
     "output_type": "display_data"
    }
   ],
   "source": [
    "# plot the distribution of word length for self-text between the two subreddits\n",
    "fig, ax = plt.subplots(1,2, figsize = (20, 12))\n",
    "for axes in ax:\n",
    "    axes.set_xlabel('Post Length (words)', fontsize = 15)\n",
    "    axes.set_ylabel('Frequency', fontsize = 15)\n",
    "    axes.yaxis.set_tick_params(labelsize = 20)\n",
    "    axes.xaxis.set_tick_params(labelsize = 20)\n",
    "sns.histplot(silph_df['selftext_word_length'], bins = 100, ax = ax[0])\n",
    "ax[0].set_xlim(0, 500)\n",
    "ax[0].set_title(textwrap.fill('Distribution of TheSilphRoad Post Length', 20), fontsize = 30, fontweight = 'bold')\n",
    "sns.histplot(pogo_df['selftext_word_length'], bins = 100, ax = ax[1])\n",
    "ax[1].set_xlim(0, 500)\n",
    "ax[1].set_title(textwrap.fill('Distribution of pokemongo Post Length', 20), fontsize = 30, fontweight = 'bold')\n",
    "plt.savefig('../images/post_length_distribution');"
   ]
  },
  {
   "cell_type": "markdown",
   "metadata": {},
   "source": [
    "Here we can see that most posts are short in text which we expected after looking at our summary statistics above. "
   ]
  },
  {
   "cell_type": "code",
   "execution_count": 87,
   "metadata": {},
   "outputs": [],
   "source": [
    "# merge together title and selftext\n",
    "silph_df['merged_text'] = silph_df['title'] + ' ' + silph_df['selftext']\n",
    "pogo_df['merged_text'] = pogo_df['title'] + ' ' + pogo_df['selftext']"
   ]
  },
  {
   "cell_type": "markdown",
   "metadata": {},
   "source": [
    "## Checking word counts on the 2 Subreddits"
   ]
  },
  {
   "cell_type": "code",
   "execution_count": 88,
   "metadata": {},
   "outputs": [],
   "source": [
    "# create a custom stop words list to remove obvious words that will help determine one of these two subreddits\n",
    "\n",
    "# start with the base english stopwords\n",
    "new_stopwords = stopwords.words('english')\n",
    "\n",
    "# add stopwords that will easily identify a silph post\n",
    "custom_words = ['silph', 'road', 'silphroad', 'thesilphroad']\n",
    "\n",
    "new_stopwords.extend(custom_words)"
   ]
  },
  {
   "cell_type": "code",
   "execution_count": 103,
   "metadata": {},
   "outputs": [
    {
     "data": {
      "text/plain": [
       "['i',\n",
       " 'me',\n",
       " 'my',\n",
       " 'myself',\n",
       " 'we',\n",
       " 'our',\n",
       " 'ours',\n",
       " 'ourselves',\n",
       " 'you',\n",
       " \"you're\",\n",
       " \"you've\",\n",
       " \"you'll\",\n",
       " \"you'd\",\n",
       " 'your',\n",
       " 'yours',\n",
       " 'yourself',\n",
       " 'yourselves',\n",
       " 'he',\n",
       " 'him',\n",
       " 'his',\n",
       " 'himself',\n",
       " 'she',\n",
       " \"she's\",\n",
       " 'her',\n",
       " 'hers',\n",
       " 'herself',\n",
       " 'it',\n",
       " \"it's\",\n",
       " 'its',\n",
       " 'itself',\n",
       " 'they',\n",
       " 'them',\n",
       " 'their',\n",
       " 'theirs',\n",
       " 'themselves',\n",
       " 'what',\n",
       " 'which',\n",
       " 'who',\n",
       " 'whom',\n",
       " 'this',\n",
       " 'that',\n",
       " \"that'll\",\n",
       " 'these',\n",
       " 'those',\n",
       " 'am',\n",
       " 'is',\n",
       " 'are',\n",
       " 'was',\n",
       " 'were',\n",
       " 'be',\n",
       " 'been',\n",
       " 'being',\n",
       " 'have',\n",
       " 'has',\n",
       " 'had',\n",
       " 'having',\n",
       " 'do',\n",
       " 'does',\n",
       " 'did',\n",
       " 'doing',\n",
       " 'a',\n",
       " 'an',\n",
       " 'the',\n",
       " 'and',\n",
       " 'but',\n",
       " 'if',\n",
       " 'or',\n",
       " 'because',\n",
       " 'as',\n",
       " 'until',\n",
       " 'while',\n",
       " 'of',\n",
       " 'at',\n",
       " 'by',\n",
       " 'for',\n",
       " 'with',\n",
       " 'about',\n",
       " 'against',\n",
       " 'between',\n",
       " 'into',\n",
       " 'through',\n",
       " 'during',\n",
       " 'before',\n",
       " 'after',\n",
       " 'above',\n",
       " 'below',\n",
       " 'to',\n",
       " 'from',\n",
       " 'up',\n",
       " 'down',\n",
       " 'in',\n",
       " 'out',\n",
       " 'on',\n",
       " 'off',\n",
       " 'over',\n",
       " 'under',\n",
       " 'again',\n",
       " 'further',\n",
       " 'then',\n",
       " 'once',\n",
       " 'here',\n",
       " 'there',\n",
       " 'when',\n",
       " 'where',\n",
       " 'why',\n",
       " 'how',\n",
       " 'all',\n",
       " 'any',\n",
       " 'both',\n",
       " 'each',\n",
       " 'few',\n",
       " 'more',\n",
       " 'most',\n",
       " 'other',\n",
       " 'some',\n",
       " 'such',\n",
       " 'no',\n",
       " 'nor',\n",
       " 'not',\n",
       " 'only',\n",
       " 'own',\n",
       " 'same',\n",
       " 'so',\n",
       " 'than',\n",
       " 'too',\n",
       " 'very',\n",
       " 's',\n",
       " 't',\n",
       " 'can',\n",
       " 'will',\n",
       " 'just',\n",
       " 'don',\n",
       " \"don't\",\n",
       " 'should',\n",
       " \"should've\",\n",
       " 'now',\n",
       " 'd',\n",
       " 'll',\n",
       " 'm',\n",
       " 'o',\n",
       " 're',\n",
       " 've',\n",
       " 'y',\n",
       " 'ain',\n",
       " 'aren',\n",
       " \"aren't\",\n",
       " 'couldn',\n",
       " \"couldn't\",\n",
       " 'didn',\n",
       " \"didn't\",\n",
       " 'doesn',\n",
       " \"doesn't\",\n",
       " 'hadn',\n",
       " \"hadn't\",\n",
       " 'hasn',\n",
       " \"hasn't\",\n",
       " 'haven',\n",
       " \"haven't\",\n",
       " 'isn',\n",
       " \"isn't\",\n",
       " 'ma',\n",
       " 'mightn',\n",
       " \"mightn't\",\n",
       " 'mustn',\n",
       " \"mustn't\",\n",
       " 'needn',\n",
       " \"needn't\",\n",
       " 'shan',\n",
       " \"shan't\",\n",
       " 'shouldn',\n",
       " \"shouldn't\",\n",
       " 'wasn',\n",
       " \"wasn't\",\n",
       " 'weren',\n",
       " \"weren't\",\n",
       " 'won',\n",
       " \"won't\",\n",
       " 'wouldn',\n",
       " \"wouldn't\"]"
      ]
     },
     "execution_count": 103,
     "metadata": {},
     "output_type": "execute_result"
    }
   ],
   "source": [
    "stopwords.words('english')"
   ]
  },
  {
   "cell_type": "code",
   "execution_count": 89,
   "metadata": {},
   "outputs": [
    {
     "data": {
      "text/plain": [
       "pokemon    5205\n",
       "get        3329\n",
       "one        2441\n",
       "like       1956\n",
       "go         1906\n",
       "know       1821\n",
       "would      1753\n",
       "shiny      1693\n",
       "game       1690\n",
       "anyone     1532\n",
       "time       1471\n",
       "got        1369\n",
       "raid       1263\n",
       "day        1253\n",
       "level      1240\n",
       "dtype: int64"
      ]
     },
     "execution_count": 89,
     "metadata": {},
     "output_type": "execute_result"
    }
   ],
   "source": [
    "# initialize CountVectorizer\n",
    "\n",
    "cvec_pogo = CountVectorizer(stop_words = new_stopwords, strip_accents = 'unicode')\n",
    "cvec_silph = CountVectorizer(stop_words = new_stopwords, strip_accents = 'unicode')\n",
    "X_pogo = pogo_df['selftext']\n",
    "\n",
    "X_pogo = cvec_pogo.fit_transform(X_pogo)\n",
    "pogo_selftext = pd.DataFrame(X_pogo.todense(), columns = cvec_pogo.get_feature_names())\n",
    "\n",
    "# list the 15 most common words on pokemongo subreddit\n",
    "pogo_selftext.sum().sort_values(ascending = False).head(15)"
   ]
  },
  {
   "cell_type": "code",
   "execution_count": 90,
   "metadata": {},
   "outputs": [
    {
     "data": {
      "text/plain": [
       "pokemon    6705\n",
       "get        3962\n",
       "https      3617\n",
       "one        3313\n",
       "com        3234\n",
       "like       2939\n",
       "would      2648\n",
       "mega       2614\n",
       "amp        2490\n",
       "go         2348\n",
       "time       2322\n",
       "game       2253\n",
       "raid       2167\n",
       "know       2073\n",
       "new        1992\n",
       "dtype: int64"
      ]
     },
     "execution_count": 90,
     "metadata": {},
     "output_type": "execute_result"
    }
   ],
   "source": [
    "X_silph = silph_df['selftext']\n",
    "\n",
    "X_silph = cvec_silph.fit_transform(X_silph)\n",
    "silph_selftext = pd.DataFrame(X_silph.todense(), columns = cvec_silph.get_feature_names())\n",
    "\n",
    "# list the 15 most common words on TheSilphRoad subreddit\n",
    "silph_selftext.sum().sort_values(ascending = False).head(15)"
   ]
  },
  {
   "cell_type": "code",
   "execution_count": 107,
   "metadata": {},
   "outputs": [
    {
     "data": {
      "image/png": "[encoded data removed]",
      "text/plain": [
       "<Figure size 2160x720 with 2 Axes>"
      ]
     },
     "metadata": {
      "needs_background": "light"
     },
     "output_type": "display_data"
    }
   ],
   "source": [
    "# plot the most common words on bar charts\n",
    "pretty_colors = sns.color_palette(\"Set2\")\n",
    "fig, ax = plt.subplots(1, 2, figsize = (30, 10))\n",
    "sns.barplot(x = pogo_selftext.sum().sort_values(ascending = False).head(15),\n",
    "            y = pogo_selftext.sum().sort_values(ascending = False).head(15).index, orient = 'h', ax = ax[0],\n",
    "           palette = pretty_colors)\n",
    "ax[0].set_title('pokemongo', fontsize = 15, fontweight = 'bold')\n",
    "sns.barplot(y = silph_selftext.sum().sort_values(ascending = False).head(15).index, \n",
    "            x = silph_selftext.sum().sort_values(ascending = False).head(15), orient = 'h', ax = ax[1],\n",
    "           palette = pretty_colors)\n",
    "ax[1].set_title('TheSilphRoad', fontsize = 15, fontweight = 'bold')\n",
    "for axes in ax:\n",
    "    axes.set_xlabel('Frequency', fontsize = 20)\n",
    "    axes.yaxis.set_tick_params(labelsize = 30)\n",
    "    axes.xaxis.set_tick_params(labelsize = 20)\n",
    "fig.suptitle('Most Common Words in TheSilphRoad and pokemongo Subreddits', fontsize = 40, fontweight = 'bold')\n",
    "plt.savefig('../images/most_common_only_nltk_stopwords.png');"
   ]
  },
  {
   "cell_type": "markdown",
   "metadata": {},
   "source": [
    "Here we see that the most common words are very similar between TheSilphRoad and pokemongo subreddit. We will now add some more stopwords so that we can actually determine which words can be used to distinguish the 2 subreddits. "
   ]
  },
  {
   "cell_type": "code",
   "execution_count": 92,
   "metadata": {},
   "outputs": [],
   "source": [
    "# create a custom stop words list to remove obvious words that will help determine one of these two subreddits\n",
    "\n",
    "# start with the base english stopwords\n",
    "new_stopwords = stopwords.words('english')\n",
    "\n",
    "# add stopwords that are common in both subreddits\n",
    "custom_words = ['silph', 'road', 'silphroad', 'thesilphroad', 'pokemon', 'go', 'get', 'one', 'like', 'would', 'know', 'time', 'game', 'shiny', \n",
    "               'https', 'raid', 'anyone', 'got', 'new', 'event', 'day', 'level', 'even', 'com', 'raids', 'still', 'people', 'also', 'since',\n",
    "               'use', 'catch', 'amp', 'see', 'want', 'could', 'first', 'research', 'shadow', 'think', 'else', 'way', 'niantic', 'make', \n",
    "               'back', 'really', 'need', 'eggs', 'community', 'something', 'much', 'good', 'able']\n",
    "\n",
    "new_stopwords.extend(custom_words)"
   ]
  },
  {
   "cell_type": "code",
   "execution_count": 96,
   "metadata": {},
   "outputs": [
    {
     "data": {
      "text/plain": [
       "help       773\n",
       "evolve     764\n",
       "friends    741\n",
       "getting    698\n",
       "every      696\n",
       "cp         675\n",
       "find       657\n",
       "playing    654\n",
       "play       647\n",
       "caught     634\n",
       "days       615\n",
       "thanks     607\n",
       "today      596\n",
       "imgur      579\n",
       "best       576\n",
       "dtype: int64"
      ]
     },
     "execution_count": 96,
     "metadata": {},
     "output_type": "execute_result"
    }
   ],
   "source": [
    "# initialize CountVectorizer\n",
    "\n",
    "cvec_pogo = CountVectorizer(stop_words = new_stopwords, strip_accents = 'unicode')\n",
    "cvec_silph = CountVectorizer(stop_words = new_stopwords, strip_accents = 'unicode')\n",
    "X_pogo = pogo_df['selftext']\n",
    "\n",
    "X_pogo = cvec_pogo.fit_transform(X_pogo)\n",
    "pogo_selftext = pd.DataFrame(X_pogo.todense(), columns = cvec_pogo.get_feature_names())\n",
    "\n",
    "# list the 15 most common words on pokemongo subreddit\n",
    "pogo_selftext.sum().sort_values(ascending = False).head(15)"
   ]
  },
  {
   "cell_type": "code",
   "execution_count": 95,
   "metadata": {},
   "outputs": [
    {
     "data": {
      "text/plain": [
       "mega        2614\n",
       "battle      1947\n",
       "11          1482\n",
       "10          1277\n",
       "move        1274\n",
       "pvpoke      1255\n",
       "candy       1239\n",
       "15          1224\n",
       "text        1197\n",
       "egg         1173\n",
       "league      1126\n",
       "www         1120\n",
       "great       1095\n",
       "resource    1068\n",
       "many        1049\n",
       "dtype: int64"
      ]
     },
     "execution_count": 95,
     "metadata": {},
     "output_type": "execute_result"
    }
   ],
   "source": [
    "X_silph = silph_df['selftext']\n",
    "\n",
    "X_silph = cvec_silph.fit_transform(X_silph)\n",
    "silph_selftext = pd.DataFrame(X_silph.todense(), columns = cvec_silph.get_feature_names())\n",
    "\n",
    "# list the 15 most common words on TheSilphRoad subreddit\n",
    "silph_selftext.sum().sort_values(ascending = False).head(15)"
   ]
  },
  {
   "cell_type": "code",
   "execution_count": 108,
   "metadata": {},
   "outputs": [
    {
     "data": {
      "image/png": "[encoded data removed]",
      "text/plain": [
       "<Figure size 2160x720 with 2 Axes>"
      ]
     },
     "metadata": {
      "needs_background": "light"
     },
     "output_type": "display_data"
    }
   ],
   "source": [
    "# plot the most common words on bar charts\n",
    "fig, ax = plt.subplots(1, 2, figsize = (30, 10))\n",
    "sns.barplot(y = pogo_selftext.sum().sort_values(ascending = False).head(15).index, \n",
    "            x = pogo_selftext.sum().sort_values(ascending = False).head(15), orient = 'h', ax = ax[0],\n",
    "           palette = pretty_colors)\n",
    "ax[0].set_title('pokemongo', fontsize = 15, fontweight = 'bold')\n",
    "sns.barplot(y = silph_selftext.sum().sort_values(ascending = False).head(15).index, \n",
    "            x = silph_selftext.sum().sort_values(ascending = False).head(15), orient = 'h', ax = ax[1],\n",
    "           palette = pretty_colors)\n",
    "ax[1].set_title('TheSilphRoad', fontsize = 15, fontweight = 'bold')\n",
    "for axes in ax:\n",
    "    axes.set_xlabel('Frequency', fontsize = 20)\n",
    "    axes.yaxis.set_tick_params(labelsize = 30)\n",
    "    axes.xaxis.set_tick_params(labelsize = 20)\n",
    "fig.suptitle('Most Common Words in TheSilphRoad and pokemongo Subreddits', fontsize = 40, fontweight = 'bold')\n",
    "plt.savefig('../images/most_common_more_stop_words');"
   ]
  },
  {
   "cell_type": "markdown",
   "metadata": {},
   "source": [
    "We now actually can see a difference in words between the our two subreddits which should greatly improve our model. "
   ]
  },
  {
   "cell_type": "code",
   "execution_count": 98,
   "metadata": {},
   "outputs": [
    {
     "data": {
      "text/html": [
       "<div>\n",
       "<style scoped>\n",
       "    .dataframe tbody tr th:only-of-type {\n",
       "        vertical-align: middle;\n",
       "    }\n",
       "\n",
       "    .dataframe tbody tr th {\n",
       "        vertical-align: top;\n",
       "    }\n",
       "\n",
       "    .dataframe thead th {\n",
       "        text-align: right;\n",
       "    }\n",
       "</style>\n",
       "<table border=\"1\" class=\"dataframe\">\n",
       "  <thead>\n",
       "    <tr style=\"text-align: right;\">\n",
       "      <th></th>\n",
       "      <th>selftext</th>\n",
       "      <th>title</th>\n",
       "      <th>subreddit</th>\n",
       "      <th>selftext_word_length</th>\n",
       "      <th>title_word_length</th>\n",
       "      <th>merged_text</th>\n",
       "    </tr>\n",
       "  </thead>\n",
       "  <tbody>\n",
       "    <tr>\n",
       "      <th>0</th>\n",
       "      <td>Has anybody found a permanent fix to not being...</td>\n",
       "      <td>Fix to not being able to attack?</td>\n",
       "      <td>TheSilphRoad</td>\n",
       "      <td>16</td>\n",
       "      <td>7</td>\n",
       "      <td>Fix to not being able to attack? Has anybody f...</td>\n",
       "    </tr>\n",
       "    <tr>\n",
       "      <th>1</th>\n",
       "      <td>2 raids today where my attacks wouldn’t regist...</td>\n",
       "      <td>Attack glitch during Regi raids</td>\n",
       "      <td>TheSilphRoad</td>\n",
       "      <td>44</td>\n",
       "      <td>5</td>\n",
       "      <td>Attack glitch during Regi raids 2 raids today ...</td>\n",
       "    </tr>\n",
       "    <tr>\n",
       "      <th>2</th>\n",
       "      <td>I’ve had a Pokémon defending a gym for over 36...</td>\n",
       "      <td>[Bug?] Can’t seem to earn or collect pokecoins...</td>\n",
       "      <td>TheSilphRoad</td>\n",
       "      <td>36</td>\n",
       "      <td>13</td>\n",
       "      <td>[Bug?] Can’t seem to earn or collect pokecoins...</td>\n",
       "    </tr>\n",
       "    <tr>\n",
       "      <th>3</th>\n",
       "      <td>Using an iPhone 11, so it is not an old phone ...</td>\n",
       "      <td>[Bug?] AR suddenly freezes</td>\n",
       "      <td>TheSilphRoad</td>\n",
       "      <td>120</td>\n",
       "      <td>4</td>\n",
       "      <td>[Bug?] AR suddenly freezes Using an iPhone 11,...</td>\n",
       "    </tr>\n",
       "    <tr>\n",
       "      <th>4</th>\n",
       "      <td>For any data nerds I wanted to give my persona...</td>\n",
       "      <td>3 hour incense event personal results</td>\n",
       "      <td>TheSilphRoad</td>\n",
       "      <td>142</td>\n",
       "      <td>6</td>\n",
       "      <td>3 hour incense event personal results For any ...</td>\n",
       "    </tr>\n",
       "  </tbody>\n",
       "</table>\n",
       "</div>"
      ],
      "text/plain": [
       "                                            selftext  \\\n",
       "0  Has anybody found a permanent fix to not being...   \n",
       "1  2 raids today where my attacks wouldn’t regist...   \n",
       "2  I’ve had a Pokémon defending a gym for over 36...   \n",
       "3  Using an iPhone 11, so it is not an old phone ...   \n",
       "4  For any data nerds I wanted to give my persona...   \n",
       "\n",
       "                                               title     subreddit  \\\n",
       "0                   Fix to not being able to attack?  TheSilphRoad   \n",
       "1                    Attack glitch during Regi raids  TheSilphRoad   \n",
       "2  [Bug?] Can’t seem to earn or collect pokecoins...  TheSilphRoad   \n",
       "3                         [Bug?] AR suddenly freezes  TheSilphRoad   \n",
       "4              3 hour incense event personal results  TheSilphRoad   \n",
       "\n",
       "   selftext_word_length  title_word_length  \\\n",
       "0                    16                  7   \n",
       "1                    44                  5   \n",
       "2                    36                 13   \n",
       "3                   120                  4   \n",
       "4                   142                  6   \n",
       "\n",
       "                                         merged_text  \n",
       "0  Fix to not being able to attack? Has anybody f...  \n",
       "1  Attack glitch during Regi raids 2 raids today ...  \n",
       "2  [Bug?] Can’t seem to earn or collect pokecoins...  \n",
       "3  [Bug?] AR suddenly freezes Using an iPhone 11,...  \n",
       "4  3 hour incense event personal results For any ...  "
      ]
     },
     "execution_count": 98,
     "metadata": {},
     "output_type": "execute_result"
    }
   ],
   "source": [
    "# merge silph and pokemongo subreddits\n",
    "\n",
    "merged_df = pd.concat([silph_df, pogo_df], axis = 0)\n",
    "merged_df.head()"
   ]
  },
  {
   "cell_type": "code",
   "execution_count": 99,
   "metadata": {},
   "outputs": [
    {
     "data": {
      "text/plain": [
       "(19384, 6)"
      ]
     },
     "execution_count": 99,
     "metadata": {},
     "output_type": "execute_result"
    }
   ],
   "source": [
    "merged_df.shape"
   ]
  },
  {
   "cell_type": "code",
   "execution_count": 100,
   "metadata": {},
   "outputs": [
    {
     "data": {
      "text/plain": [
       "TheSilphRoad    10683\n",
       "pokemongo        8701\n",
       "Name: subreddit, dtype: int64"
      ]
     },
     "execution_count": 100,
     "metadata": {},
     "output_type": "execute_result"
    }
   ],
   "source": [
    "merged_df['subreddit'].value_counts()"
   ]
  },
  {
   "cell_type": "code",
   "execution_count": 101,
   "metadata": {},
   "outputs": [],
   "source": [
    "merged_df.drop(columns = ['selftext_word_length', 'title_word_length', 'selftext', 'title'], axis = 1, inplace = True)"
   ]
  },
  {
   "cell_type": "code",
   "execution_count": 102,
   "metadata": {},
   "outputs": [],
   "source": [
    "merged_df.to_csv('../data/merged.csv', index = False)"
   ]
  }
 ],
 "metadata": {
  "kernelspec": {
   "display_name": "Python 3",
   "language": "python",
   "name": "python3"
  },
  "language_info": {
   "codemirror_mode": {
    "name": "ipython",
    "version": 3
   },
   "file_extension": ".py",
   "mimetype": "text/x-python",
   "name": "python",
   "nbconvert_exporter": "python",
   "pygments_lexer": "ipython3",
   "version": "3.8.5"
  }
 },
 "nbformat": 4,
 "nbformat_minor": 4
}
