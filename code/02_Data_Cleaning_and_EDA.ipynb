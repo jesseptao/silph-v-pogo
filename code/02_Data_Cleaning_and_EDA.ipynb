{
 "cells": [
  {
   "cell_type": "markdown",
   "metadata": {},
   "source": [
    "# Data Cleaning and EDA"
   ]
  },
  {
   "cell_type": "markdown",
   "metadata": {},
   "source": [
    "Here we will take a closer look at the posts we have collected from TheSilphRoad and pokemongo subreddits.  "
   ]
  },
  {
   "cell_type": "code",
   "execution_count": 1,
   "metadata": {},
   "outputs": [],
   "source": [
    "# import libraries\n",
    "import pandas as pd\n",
    "import numpy as np \n",
    "import matplotlib.pyplot as plt\n",
    "\n",
    "from sklearn.feature_extraction.text import CountVectorizer\n",
    "from nltk.tokenize import RegexpTokenizer\n",
    "from nltk.corpus import stopwords"
   ]
  },
  {
   "cell_type": "code",
   "execution_count": 2,
   "metadata": {},
   "outputs": [],
   "source": [
    "# import status data\n",
    "silph_df = pd.read_csv('../data/silph.csv')\n",
    "pogo_df = pd.read_csv('../data/pogo.csv')"
   ]
  },
  {
   "cell_type": "code",
   "execution_count": 3,
   "metadata": {},
   "outputs": [
    {
     "data": {
      "text/html": [
       "<div>\n",
       "<style scoped>\n",
       "    .dataframe tbody tr th:only-of-type {\n",
       "        vertical-align: middle;\n",
       "    }\n",
       "\n",
       "    .dataframe tbody tr th {\n",
       "        vertical-align: top;\n",
       "    }\n",
       "\n",
       "    .dataframe thead th {\n",
       "        text-align: right;\n",
       "    }\n",
       "</style>\n",
       "<table border=\"1\" class=\"dataframe\">\n",
       "  <thead>\n",
       "    <tr style=\"text-align: right;\">\n",
       "      <th></th>\n",
       "      <th>selftext</th>\n",
       "      <th>title</th>\n",
       "      <th>subreddit</th>\n",
       "    </tr>\n",
       "  </thead>\n",
       "  <tbody>\n",
       "    <tr>\n",
       "      <th>0</th>\n",
       "      <td>Has anybody found a permanent fix to not being...</td>\n",
       "      <td>Fix to not being able to attack?</td>\n",
       "      <td>TheSilphRoad</td>\n",
       "    </tr>\n",
       "    <tr>\n",
       "      <th>1</th>\n",
       "      <td>2 raids today where my attacks wouldn’t regist...</td>\n",
       "      <td>Attack glitch during Regi raids</td>\n",
       "      <td>TheSilphRoad</td>\n",
       "    </tr>\n",
       "    <tr>\n",
       "      <th>2</th>\n",
       "      <td>I’ve had a Pokémon defending a gym for over 36...</td>\n",
       "      <td>[Bug?] Can’t seem to earn or collect pokecoins...</td>\n",
       "      <td>TheSilphRoad</td>\n",
       "    </tr>\n",
       "    <tr>\n",
       "      <th>3</th>\n",
       "      <td>Using an iPhone 11, so it is not an old phone ...</td>\n",
       "      <td>[Bug?] AR suddenly freezes</td>\n",
       "      <td>TheSilphRoad</td>\n",
       "    </tr>\n",
       "    <tr>\n",
       "      <th>4</th>\n",
       "      <td>For any data nerds I wanted to give my persona...</td>\n",
       "      <td>3 hour incense event personal results</td>\n",
       "      <td>TheSilphRoad</td>\n",
       "    </tr>\n",
       "  </tbody>\n",
       "</table>\n",
       "</div>"
      ],
      "text/plain": [
       "                                            selftext  \\\n",
       "0  Has anybody found a permanent fix to not being...   \n",
       "1  2 raids today where my attacks wouldn’t regist...   \n",
       "2  I’ve had a Pokémon defending a gym for over 36...   \n",
       "3  Using an iPhone 11, so it is not an old phone ...   \n",
       "4  For any data nerds I wanted to give my persona...   \n",
       "\n",
       "                                               title     subreddit  \n",
       "0                   Fix to not being able to attack?  TheSilphRoad  \n",
       "1                    Attack glitch during Regi raids  TheSilphRoad  \n",
       "2  [Bug?] Can’t seem to earn or collect pokecoins...  TheSilphRoad  \n",
       "3                         [Bug?] AR suddenly freezes  TheSilphRoad  \n",
       "4              3 hour incense event personal results  TheSilphRoad  "
      ]
     },
     "execution_count": 3,
     "metadata": {},
     "output_type": "execute_result"
    }
   ],
   "source": [
    "silph_df.head()"
   ]
  },
  {
   "cell_type": "code",
   "execution_count": 4,
   "metadata": {},
   "outputs": [
    {
     "data": {
      "text/html": [
       "<div>\n",
       "<style scoped>\n",
       "    .dataframe tbody tr th:only-of-type {\n",
       "        vertical-align: middle;\n",
       "    }\n",
       "\n",
       "    .dataframe tbody tr th {\n",
       "        vertical-align: top;\n",
       "    }\n",
       "\n",
       "    .dataframe thead th {\n",
       "        text-align: right;\n",
       "    }\n",
       "</style>\n",
       "<table border=\"1\" class=\"dataframe\">\n",
       "  <thead>\n",
       "    <tr style=\"text-align: right;\">\n",
       "      <th></th>\n",
       "      <th>selftext</th>\n",
       "      <th>title</th>\n",
       "      <th>subreddit</th>\n",
       "    </tr>\n",
       "  </thead>\n",
       "  <tbody>\n",
       "    <tr>\n",
       "      <th>0</th>\n",
       "      <td>Should I power up my 1103 cp charmeleon to 116...</td>\n",
       "      <td>Pokemon evolution question regarding cp potent...</td>\n",
       "      <td>pokemongo</td>\n",
       "    </tr>\n",
       "    <tr>\n",
       "      <th>1</th>\n",
       "      <td>I live in an empty area with a decent amount o...</td>\n",
       "      <td>Im mad and just got scammed...</td>\n",
       "      <td>pokemongo</td>\n",
       "    </tr>\n",
       "    <tr>\n",
       "      <th>2</th>\n",
       "      <td>I need to get sunkern or exeggcute for the mel...</td>\n",
       "      <td>Need help in getting sunkern/ exeggcute</td>\n",
       "      <td>pokemongo</td>\n",
       "    </tr>\n",
       "    <tr>\n",
       "      <th>3</th>\n",
       "      <td>My girlfriend recently got the Samsung Note 20...</td>\n",
       "      <td>Weird new glitch</td>\n",
       "      <td>pokemongo</td>\n",
       "    </tr>\n",
       "    <tr>\n",
       "      <th>4</th>\n",
       "      <td>i dont live in range of a gym, just one pokest...</td>\n",
       "      <td>pokestops by me</td>\n",
       "      <td>pokemongo</td>\n",
       "    </tr>\n",
       "  </tbody>\n",
       "</table>\n",
       "</div>"
      ],
      "text/plain": [
       "                                            selftext  \\\n",
       "0  Should I power up my 1103 cp charmeleon to 116...   \n",
       "1  I live in an empty area with a decent amount o...   \n",
       "2  I need to get sunkern or exeggcute for the mel...   \n",
       "3  My girlfriend recently got the Samsung Note 20...   \n",
       "4  i dont live in range of a gym, just one pokest...   \n",
       "\n",
       "                                               title  subreddit  \n",
       "0  Pokemon evolution question regarding cp potent...  pokemongo  \n",
       "1                     Im mad and just got scammed...  pokemongo  \n",
       "2            Need help in getting sunkern/ exeggcute  pokemongo  \n",
       "3                                   Weird new glitch  pokemongo  \n",
       "4                                    pokestops by me  pokemongo  "
      ]
     },
     "execution_count": 4,
     "metadata": {},
     "output_type": "execute_result"
    }
   ],
   "source": [
    "pogo_df.head()"
   ]
  },
  {
   "cell_type": "code",
   "execution_count": 5,
   "metadata": {},
   "outputs": [],
   "source": [
    "silph_df = silph_df.astype(str)\n",
    "pogo_df = pogo_df.astype(str)"
   ]
  },
  {
   "cell_type": "code",
   "execution_count": 6,
   "metadata": {},
   "outputs": [
    {
     "data": {
      "text/html": [
       "<div>\n",
       "<style scoped>\n",
       "    .dataframe tbody tr th:only-of-type {\n",
       "        vertical-align: middle;\n",
       "    }\n",
       "\n",
       "    .dataframe tbody tr th {\n",
       "        vertical-align: top;\n",
       "    }\n",
       "\n",
       "    .dataframe thead th {\n",
       "        text-align: right;\n",
       "    }\n",
       "</style>\n",
       "<table border=\"1\" class=\"dataframe\">\n",
       "  <thead>\n",
       "    <tr style=\"text-align: right;\">\n",
       "      <th></th>\n",
       "      <th>selftext</th>\n",
       "      <th>title</th>\n",
       "      <th>subreddit</th>\n",
       "      <th>selftext_word_length</th>\n",
       "      <th>title_word_length</th>\n",
       "    </tr>\n",
       "  </thead>\n",
       "  <tbody>\n",
       "    <tr>\n",
       "      <th>0</th>\n",
       "      <td>Has anybody found a permanent fix to not being...</td>\n",
       "      <td>Fix to not being able to attack?</td>\n",
       "      <td>TheSilphRoad</td>\n",
       "      <td>16</td>\n",
       "      <td>7</td>\n",
       "    </tr>\n",
       "    <tr>\n",
       "      <th>1</th>\n",
       "      <td>2 raids today where my attacks wouldn’t regist...</td>\n",
       "      <td>Attack glitch during Regi raids</td>\n",
       "      <td>TheSilphRoad</td>\n",
       "      <td>44</td>\n",
       "      <td>5</td>\n",
       "    </tr>\n",
       "    <tr>\n",
       "      <th>2</th>\n",
       "      <td>I’ve had a Pokémon defending a gym for over 36...</td>\n",
       "      <td>[Bug?] Can’t seem to earn or collect pokecoins...</td>\n",
       "      <td>TheSilphRoad</td>\n",
       "      <td>36</td>\n",
       "      <td>13</td>\n",
       "    </tr>\n",
       "    <tr>\n",
       "      <th>3</th>\n",
       "      <td>Using an iPhone 11, so it is not an old phone ...</td>\n",
       "      <td>[Bug?] AR suddenly freezes</td>\n",
       "      <td>TheSilphRoad</td>\n",
       "      <td>120</td>\n",
       "      <td>4</td>\n",
       "    </tr>\n",
       "    <tr>\n",
       "      <th>4</th>\n",
       "      <td>For any data nerds I wanted to give my persona...</td>\n",
       "      <td>3 hour incense event personal results</td>\n",
       "      <td>TheSilphRoad</td>\n",
       "      <td>142</td>\n",
       "      <td>6</td>\n",
       "    </tr>\n",
       "  </tbody>\n",
       "</table>\n",
       "</div>"
      ],
      "text/plain": [
       "                                            selftext  \\\n",
       "0  Has anybody found a permanent fix to not being...   \n",
       "1  2 raids today where my attacks wouldn’t regist...   \n",
       "2  I’ve had a Pokémon defending a gym for over 36...   \n",
       "3  Using an iPhone 11, so it is not an old phone ...   \n",
       "4  For any data nerds I wanted to give my persona...   \n",
       "\n",
       "                                               title     subreddit  \\\n",
       "0                   Fix to not being able to attack?  TheSilphRoad   \n",
       "1                    Attack glitch during Regi raids  TheSilphRoad   \n",
       "2  [Bug?] Can’t seem to earn or collect pokecoins...  TheSilphRoad   \n",
       "3                         [Bug?] AR suddenly freezes  TheSilphRoad   \n",
       "4              3 hour incense event personal results  TheSilphRoad   \n",
       "\n",
       "   selftext_word_length  title_word_length  \n",
       "0                    16                  7  \n",
       "1                    44                  5  \n",
       "2                    36                 13  \n",
       "3                   120                  4  \n",
       "4                   142                  6  "
      ]
     },
     "execution_count": 6,
     "metadata": {},
     "output_type": "execute_result"
    }
   ],
   "source": [
    "# check lengths of selftext and title\n",
    "silph_df['selftext_word_length'] = [len(RegexpTokenizer(r\"[\\w'-]+\").tokenize(i)) for i in silph_df['selftext']]\n",
    "silph_df['title_word_length'] = [len(RegexpTokenizer(r\"[\\w'-]+\").tokenize(i)) for i in silph_df['title']]\n",
    "silph_df.head()"
   ]
  },
  {
   "cell_type": "code",
   "execution_count": 7,
   "metadata": {},
   "outputs": [
    {
     "data": {
      "text/html": [
       "<div>\n",
       "<style scoped>\n",
       "    .dataframe tbody tr th:only-of-type {\n",
       "        vertical-align: middle;\n",
       "    }\n",
       "\n",
       "    .dataframe tbody tr th {\n",
       "        vertical-align: top;\n",
       "    }\n",
       "\n",
       "    .dataframe thead th {\n",
       "        text-align: right;\n",
       "    }\n",
       "</style>\n",
       "<table border=\"1\" class=\"dataframe\">\n",
       "  <thead>\n",
       "    <tr style=\"text-align: right;\">\n",
       "      <th></th>\n",
       "      <th>selftext</th>\n",
       "      <th>title</th>\n",
       "      <th>subreddit</th>\n",
       "      <th>selftext_word_length</th>\n",
       "      <th>title_word_length</th>\n",
       "    </tr>\n",
       "  </thead>\n",
       "  <tbody>\n",
       "    <tr>\n",
       "      <th>0</th>\n",
       "      <td>Should I power up my 1103 cp charmeleon to 116...</td>\n",
       "      <td>Pokemon evolution question regarding cp potent...</td>\n",
       "      <td>pokemongo</td>\n",
       "      <td>32</td>\n",
       "      <td>9</td>\n",
       "    </tr>\n",
       "    <tr>\n",
       "      <th>1</th>\n",
       "      <td>I live in an empty area with a decent amount o...</td>\n",
       "      <td>Im mad and just got scammed...</td>\n",
       "      <td>pokemongo</td>\n",
       "      <td>143</td>\n",
       "      <td>6</td>\n",
       "    </tr>\n",
       "    <tr>\n",
       "      <th>2</th>\n",
       "      <td>I need to get sunkern or exeggcute for the mel...</td>\n",
       "      <td>Need help in getting sunkern/ exeggcute</td>\n",
       "      <td>pokemongo</td>\n",
       "      <td>25</td>\n",
       "      <td>6</td>\n",
       "    </tr>\n",
       "    <tr>\n",
       "      <th>3</th>\n",
       "      <td>My girlfriend recently got the Samsung Note 20...</td>\n",
       "      <td>Weird new glitch</td>\n",
       "      <td>pokemongo</td>\n",
       "      <td>95</td>\n",
       "      <td>3</td>\n",
       "    </tr>\n",
       "    <tr>\n",
       "      <th>4</th>\n",
       "      <td>i dont live in range of a gym, just one pokest...</td>\n",
       "      <td>pokestops by me</td>\n",
       "      <td>pokemongo</td>\n",
       "      <td>62</td>\n",
       "      <td>3</td>\n",
       "    </tr>\n",
       "  </tbody>\n",
       "</table>\n",
       "</div>"
      ],
      "text/plain": [
       "                                            selftext  \\\n",
       "0  Should I power up my 1103 cp charmeleon to 116...   \n",
       "1  I live in an empty area with a decent amount o...   \n",
       "2  I need to get sunkern or exeggcute for the mel...   \n",
       "3  My girlfriend recently got the Samsung Note 20...   \n",
       "4  i dont live in range of a gym, just one pokest...   \n",
       "\n",
       "                                               title  subreddit  \\\n",
       "0  Pokemon evolution question regarding cp potent...  pokemongo   \n",
       "1                     Im mad and just got scammed...  pokemongo   \n",
       "2            Need help in getting sunkern/ exeggcute  pokemongo   \n",
       "3                                   Weird new glitch  pokemongo   \n",
       "4                                    pokestops by me  pokemongo   \n",
       "\n",
       "   selftext_word_length  title_word_length  \n",
       "0                    32                  9  \n",
       "1                   143                  6  \n",
       "2                    25                  6  \n",
       "3                    95                  3  \n",
       "4                    62                  3  "
      ]
     },
     "execution_count": 7,
     "metadata": {},
     "output_type": "execute_result"
    }
   ],
   "source": [
    "pogo_df['selftext_word_length'] = [len(RegexpTokenizer(r\"[\\w'-]+\").tokenize(i)) for i in pogo_df['selftext']]\n",
    "pogo_df['title_word_length'] = [len(RegexpTokenizer(r\"[\\w'-]+\").tokenize(i)) for i in pogo_df['title']]\n",
    "pogo_df.head()"
   ]
  },
  {
   "cell_type": "code",
   "execution_count": 8,
   "metadata": {},
   "outputs": [
    {
     "data": {
      "text/html": [
       "<div>\n",
       "<style scoped>\n",
       "    .dataframe tbody tr th:only-of-type {\n",
       "        vertical-align: middle;\n",
       "    }\n",
       "\n",
       "    .dataframe tbody tr th {\n",
       "        vertical-align: top;\n",
       "    }\n",
       "\n",
       "    .dataframe thead th {\n",
       "        text-align: right;\n",
       "    }\n",
       "</style>\n",
       "<table border=\"1\" class=\"dataframe\">\n",
       "  <thead>\n",
       "    <tr style=\"text-align: right;\">\n",
       "      <th></th>\n",
       "      <th>selftext_word_length</th>\n",
       "      <th>title_word_length</th>\n",
       "    </tr>\n",
       "  </thead>\n",
       "  <tbody>\n",
       "    <tr>\n",
       "      <th>count</th>\n",
       "      <td>8701.000000</td>\n",
       "      <td>8701.000000</td>\n",
       "    </tr>\n",
       "    <tr>\n",
       "      <th>mean</th>\n",
       "      <td>63.383634</td>\n",
       "      <td>7.298701</td>\n",
       "    </tr>\n",
       "    <tr>\n",
       "      <th>std</th>\n",
       "      <td>85.732012</td>\n",
       "      <td>5.657613</td>\n",
       "    </tr>\n",
       "    <tr>\n",
       "      <th>min</th>\n",
       "      <td>1.000000</td>\n",
       "      <td>1.000000</td>\n",
       "    </tr>\n",
       "    <tr>\n",
       "      <th>25%</th>\n",
       "      <td>31.000000</td>\n",
       "      <td>4.000000</td>\n",
       "    </tr>\n",
       "    <tr>\n",
       "      <th>50%</th>\n",
       "      <td>46.000000</td>\n",
       "      <td>6.000000</td>\n",
       "    </tr>\n",
       "    <tr>\n",
       "      <th>75%</th>\n",
       "      <td>71.000000</td>\n",
       "      <td>9.000000</td>\n",
       "    </tr>\n",
       "    <tr>\n",
       "      <th>max</th>\n",
       "      <td>4898.000000</td>\n",
       "      <td>62.000000</td>\n",
       "    </tr>\n",
       "  </tbody>\n",
       "</table>\n",
       "</div>"
      ],
      "text/plain": [
       "       selftext_word_length  title_word_length\n",
       "count           8701.000000        8701.000000\n",
       "mean              63.383634           7.298701\n",
       "std               85.732012           5.657613\n",
       "min                1.000000           1.000000\n",
       "25%               31.000000           4.000000\n",
       "50%               46.000000           6.000000\n",
       "75%               71.000000           9.000000\n",
       "max             4898.000000          62.000000"
      ]
     },
     "execution_count": 8,
     "metadata": {},
     "output_type": "execute_result"
    }
   ],
   "source": [
    "pogo_df.describe()"
   ]
  },
  {
   "cell_type": "code",
   "execution_count": 9,
   "metadata": {},
   "outputs": [
    {
     "data": {
      "text/html": [
       "<div>\n",
       "<style scoped>\n",
       "    .dataframe tbody tr th:only-of-type {\n",
       "        vertical-align: middle;\n",
       "    }\n",
       "\n",
       "    .dataframe tbody tr th {\n",
       "        vertical-align: top;\n",
       "    }\n",
       "\n",
       "    .dataframe thead th {\n",
       "        text-align: right;\n",
       "    }\n",
       "</style>\n",
       "<table border=\"1\" class=\"dataframe\">\n",
       "  <thead>\n",
       "    <tr style=\"text-align: right;\">\n",
       "      <th></th>\n",
       "      <th>selftext_word_length</th>\n",
       "      <th>title_word_length</th>\n",
       "    </tr>\n",
       "  </thead>\n",
       "  <tbody>\n",
       "    <tr>\n",
       "      <th>count</th>\n",
       "      <td>10683.000000</td>\n",
       "      <td>10683.000000</td>\n",
       "    </tr>\n",
       "    <tr>\n",
       "      <th>mean</th>\n",
       "      <td>90.162314</td>\n",
       "      <td>8.925115</td>\n",
       "    </tr>\n",
       "    <tr>\n",
       "      <th>std</th>\n",
       "      <td>267.365512</td>\n",
       "      <td>6.213454</td>\n",
       "    </tr>\n",
       "    <tr>\n",
       "      <th>min</th>\n",
       "      <td>0.000000</td>\n",
       "      <td>1.000000</td>\n",
       "    </tr>\n",
       "    <tr>\n",
       "      <th>25%</th>\n",
       "      <td>24.000000</td>\n",
       "      <td>5.000000</td>\n",
       "    </tr>\n",
       "    <tr>\n",
       "      <th>50%</th>\n",
       "      <td>45.000000</td>\n",
       "      <td>7.000000</td>\n",
       "    </tr>\n",
       "    <tr>\n",
       "      <th>75%</th>\n",
       "      <td>82.000000</td>\n",
       "      <td>11.000000</td>\n",
       "    </tr>\n",
       "    <tr>\n",
       "      <th>max</th>\n",
       "      <td>6650.000000</td>\n",
       "      <td>61.000000</td>\n",
       "    </tr>\n",
       "  </tbody>\n",
       "</table>\n",
       "</div>"
      ],
      "text/plain": [
       "       selftext_word_length  title_word_length\n",
       "count          10683.000000       10683.000000\n",
       "mean              90.162314           8.925115\n",
       "std              267.365512           6.213454\n",
       "min                0.000000           1.000000\n",
       "25%               24.000000           5.000000\n",
       "50%               45.000000           7.000000\n",
       "75%               82.000000          11.000000\n",
       "max             6650.000000          61.000000"
      ]
     },
     "execution_count": 9,
     "metadata": {},
     "output_type": "execute_result"
    }
   ],
   "source": [
    "silph_df.describe()"
   ]
  },
  {
   "cell_type": "code",
   "execution_count": 10,
   "metadata": {},
   "outputs": [],
   "source": [
    "# remove 2000+ word sob stories\n",
    "silph_df = silph_df.loc[silph_df['selftext_word_length'] < 2000]\n",
    "pogo_df = pogo_df.loc[pogo_df['selftext_word_length'] < 2000]"
   ]
  },
  {
   "cell_type": "code",
   "execution_count": 11,
   "metadata": {},
   "outputs": [
    {
     "data": {
      "image/png": "[encoded data removed]",
      "text/plain": [
       "<Figure size 1440x720 with 2 Axes>"
      ]
     },
     "metadata": {
      "needs_background": "light"
     },
     "output_type": "display_data"
    }
   ],
   "source": [
    "# plot the distribution of word length for self-text between the two subreddits\n",
    "fig, ax = plt.subplots(1,2, figsize = (20, 10))\n",
    "ax[0].hist(silph_df['selftext_word_length'], bins = 20)\n",
    "ax[0].set_xlim(0, 2000)\n",
    "ax[0].set_xlabel('Post Length (words)')\n",
    "ax[0].set_title('Distribution of TheSilphRoad Post Length', fontsize = 20, fontweight = 'bold')\n",
    "ax[1].hist(pogo_df['selftext_word_length'], bins = 20)\n",
    "ax[1].set_xlim(0, 2000)\n",
    "ax[1].set_xlabel('Post Length (words)')\n",
    "ax[1].set_title('Distribution of pokemongo Post Length', fontsize = 20, fontweight = 'bold');"
   ]
  },
  {
   "cell_type": "markdown",
   "metadata": {},
   "source": [
    "Here we can see that most posts are short in text which we expected after looking at our summary statistics above. "
   ]
  },
  {
   "cell_type": "code",
   "execution_count": 12,
   "metadata": {},
   "outputs": [],
   "source": [
    "# merge together title and selftext\n",
    "silph_df['merged_text'] = silph_df['title'] + ' ' + silph_df['selftext']\n",
    "pogo_df['merged_text'] = pogo_df['title'] + ' ' + pogo_df['selftext']"
   ]
  },
  {
   "cell_type": "markdown",
   "metadata": {},
   "source": [
    "## Checking word counts on the 2 Subreddits"
   ]
  },
  {
   "cell_type": "code",
   "execution_count": 13,
   "metadata": {},
   "outputs": [],
   "source": [
    "# create a custom stop words list to remove obvious words that will help determine one of these two subreddits\n",
    "\n",
    "# start with the base english stopwords\n",
    "new_stopwords = stopwords.words('english')\n",
    "\n",
    "# add stopwords that will easily identify a silph post, we do not worry about making ones for the pokemongo as both subreddits are related to pokemongo\n",
    "custom_words = ['silph', 'road', 'silphroad']\n",
    "\n",
    "new_stopwords.extend(custom_words)"
   ]
  },
  {
   "cell_type": "code",
   "execution_count": 14,
   "metadata": {},
   "outputs": [
    {
     "data": {
      "text/plain": [
       "pokemon    5172\n",
       "get        3291\n",
       "one        2420\n",
       "like       1946\n",
       "go         1870\n",
       "know       1820\n",
       "would      1749\n",
       "shiny      1693\n",
       "game       1684\n",
       "anyone     1532\n",
       "time       1454\n",
       "got        1357\n",
       "raid       1252\n",
       "day        1238\n",
       "level      1235\n",
       "dtype: int64"
      ]
     },
     "execution_count": 14,
     "metadata": {},
     "output_type": "execute_result"
    }
   ],
   "source": [
    "# initialize CountVectorizer\n",
    "\n",
    "cvec_pogo = CountVectorizer(stop_words = new_stopwords, strip_accents = 'unicode')\n",
    "cvec_silph = CountVectorizer(stop_words = new_stopwords, strip_accents = 'unicode')\n",
    "X_pogo = pogo_df['selftext']\n",
    "\n",
    "X_pogo = cvec_pogo.fit_transform(X_pogo)\n",
    "pogo_selftext = pd.DataFrame(X_pogo.todense(), columns = cvec_pogo.get_feature_names())\n",
    "\n",
    "# list the 15 most common words on pokemongo subreddit\n",
    "pogo_selftext.sum().sort_values(ascending = False).head(15)"
   ]
  },
  {
   "cell_type": "code",
   "execution_count": 15,
   "metadata": {},
   "outputs": [
    {
     "data": {
      "text/plain": [
       "pokemon    6269\n",
       "get        3600\n",
       "one        2909\n",
       "like       2515\n",
       "would      2472\n",
       "https      2260\n",
       "mega       2162\n",
       "raid       2134\n",
       "go         2130\n",
       "time       2095\n",
       "game       2072\n",
       "amp        2045\n",
       "know       1979\n",
       "com        1924\n",
       "new        1758\n",
       "dtype: int64"
      ]
     },
     "execution_count": 15,
     "metadata": {},
     "output_type": "execute_result"
    }
   ],
   "source": [
    "X_silph = silph_df['selftext']\n",
    "\n",
    "X_silph = cvec_silph.fit_transform(X_silph)\n",
    "silph_selftext = pd.DataFrame(X_silph.todense(), columns = cvec_silph.get_feature_names())\n",
    "\n",
    "# list the 15 most common words on TheSilphRoad subreddit\n",
    "silph_selftext.sum().sort_values(ascending = False).head(15)"
   ]
  },
  {
   "cell_type": "code",
   "execution_count": 16,
   "metadata": {},
   "outputs": [
    {
     "data": {
      "image/png": "[encoded data removed]",
      "text/plain": [
       "<Figure size 2160x720 with 2 Axes>"
      ]
     },
     "metadata": {
      "needs_background": "light"
     },
     "output_type": "display_data"
    }
   ],
   "source": [
    "# plot the most common words on bar charts\n",
    "\n",
    "fig, ax = plt.subplots(1, 2, figsize = (30, 10))\n",
    "ax[0].barh(pogo_selftext.sum().sort_values(ascending = False).head(15).index, pogo_selftext.sum().sort_values(ascending = False).head(15))\n",
    "ax[0].set_title('pokemongo', fontsize = 15, fontweight = 'bold')\n",
    "ax[1].barh(silph_selftext.sum().sort_values(ascending = False).head(15).index, silph_selftext.sum().sort_values(ascending = False).head(15))\n",
    "ax[1].set_title('TheSilphRoad', fontsize = 15, fontweight = 'bold')\n",
    "for axes in ax:\n",
    "    axes.set_xlabel('Frequency', fontsize = 20)\n",
    "    axes.yaxis.set_tick_params(labelsize = 30)\n",
    "    axes.xaxis.set_tick_params(labelsize = 20)\n",
    "fig.suptitle('Most Common Words in TheSilphRoad and pokemongo Subreddits', fontsize = 40, fontweight = 'bold');"
   ]
  },
  {
   "cell_type": "markdown",
   "metadata": {},
   "source": [
    "Here we see that the most common words are very similar between TheSilphRoad and pokemongo subreddit. We will do more cleaning in future notebooks to find words that will distinguish the 2 subreddits more clearly. "
   ]
  },
  {
   "cell_type": "code",
   "execution_count": 17,
   "metadata": {},
   "outputs": [
    {
     "data": {
      "text/html": [
       "<div>\n",
       "<style scoped>\n",
       "    .dataframe tbody tr th:only-of-type {\n",
       "        vertical-align: middle;\n",
       "    }\n",
       "\n",
       "    .dataframe tbody tr th {\n",
       "        vertical-align: top;\n",
       "    }\n",
       "\n",
       "    .dataframe thead th {\n",
       "        text-align: right;\n",
       "    }\n",
       "</style>\n",
       "<table border=\"1\" class=\"dataframe\">\n",
       "  <thead>\n",
       "    <tr style=\"text-align: right;\">\n",
       "      <th></th>\n",
       "      <th>selftext</th>\n",
       "      <th>title</th>\n",
       "      <th>subreddit</th>\n",
       "      <th>selftext_word_length</th>\n",
       "      <th>title_word_length</th>\n",
       "      <th>merged_text</th>\n",
       "    </tr>\n",
       "  </thead>\n",
       "  <tbody>\n",
       "    <tr>\n",
       "      <th>0</th>\n",
       "      <td>Has anybody found a permanent fix to not being...</td>\n",
       "      <td>Fix to not being able to attack?</td>\n",
       "      <td>TheSilphRoad</td>\n",
       "      <td>16</td>\n",
       "      <td>7</td>\n",
       "      <td>Fix to not being able to attack? Has anybody f...</td>\n",
       "    </tr>\n",
       "    <tr>\n",
       "      <th>1</th>\n",
       "      <td>2 raids today where my attacks wouldn’t regist...</td>\n",
       "      <td>Attack glitch during Regi raids</td>\n",
       "      <td>TheSilphRoad</td>\n",
       "      <td>44</td>\n",
       "      <td>5</td>\n",
       "      <td>Attack glitch during Regi raids 2 raids today ...</td>\n",
       "    </tr>\n",
       "    <tr>\n",
       "      <th>2</th>\n",
       "      <td>I’ve had a Pokémon defending a gym for over 36...</td>\n",
       "      <td>[Bug?] Can’t seem to earn or collect pokecoins...</td>\n",
       "      <td>TheSilphRoad</td>\n",
       "      <td>36</td>\n",
       "      <td>13</td>\n",
       "      <td>[Bug?] Can’t seem to earn or collect pokecoins...</td>\n",
       "    </tr>\n",
       "    <tr>\n",
       "      <th>3</th>\n",
       "      <td>Using an iPhone 11, so it is not an old phone ...</td>\n",
       "      <td>[Bug?] AR suddenly freezes</td>\n",
       "      <td>TheSilphRoad</td>\n",
       "      <td>120</td>\n",
       "      <td>4</td>\n",
       "      <td>[Bug?] AR suddenly freezes Using an iPhone 11,...</td>\n",
       "    </tr>\n",
       "    <tr>\n",
       "      <th>4</th>\n",
       "      <td>For any data nerds I wanted to give my persona...</td>\n",
       "      <td>3 hour incense event personal results</td>\n",
       "      <td>TheSilphRoad</td>\n",
       "      <td>142</td>\n",
       "      <td>6</td>\n",
       "      <td>3 hour incense event personal results For any ...</td>\n",
       "    </tr>\n",
       "  </tbody>\n",
       "</table>\n",
       "</div>"
      ],
      "text/plain": [
       "                                            selftext  \\\n",
       "0  Has anybody found a permanent fix to not being...   \n",
       "1  2 raids today where my attacks wouldn’t regist...   \n",
       "2  I’ve had a Pokémon defending a gym for over 36...   \n",
       "3  Using an iPhone 11, so it is not an old phone ...   \n",
       "4  For any data nerds I wanted to give my persona...   \n",
       "\n",
       "                                               title     subreddit  \\\n",
       "0                   Fix to not being able to attack?  TheSilphRoad   \n",
       "1                    Attack glitch during Regi raids  TheSilphRoad   \n",
       "2  [Bug?] Can’t seem to earn or collect pokecoins...  TheSilphRoad   \n",
       "3                         [Bug?] AR suddenly freezes  TheSilphRoad   \n",
       "4              3 hour incense event personal results  TheSilphRoad   \n",
       "\n",
       "   selftext_word_length  title_word_length  \\\n",
       "0                    16                  7   \n",
       "1                    44                  5   \n",
       "2                    36                 13   \n",
       "3                   120                  4   \n",
       "4                   142                  6   \n",
       "\n",
       "                                         merged_text  \n",
       "0  Fix to not being able to attack? Has anybody f...  \n",
       "1  Attack glitch during Regi raids 2 raids today ...  \n",
       "2  [Bug?] Can’t seem to earn or collect pokecoins...  \n",
       "3  [Bug?] AR suddenly freezes Using an iPhone 11,...  \n",
       "4  3 hour incense event personal results For any ...  "
      ]
     },
     "execution_count": 17,
     "metadata": {},
     "output_type": "execute_result"
    }
   ],
   "source": [
    "# merge silph and pokemongo subreddits\n",
    "\n",
    "merged_df = pd.concat([silph_df, pogo_df], axis = 0)\n",
    "merged_df.head()"
   ]
  },
  {
   "cell_type": "code",
   "execution_count": 18,
   "metadata": {},
   "outputs": [
    {
     "data": {
      "text/plain": [
       "(19344, 6)"
      ]
     },
     "execution_count": 18,
     "metadata": {},
     "output_type": "execute_result"
    }
   ],
   "source": [
    "merged_df.shape"
   ]
  },
  {
   "cell_type": "code",
   "execution_count": 19,
   "metadata": {},
   "outputs": [],
   "source": [
    "merged_df.drop(columns = ['selftext_word_length', 'title_word_length', 'selftext', 'title'], axis = 1, inplace = True)"
   ]
  },
  {
   "cell_type": "code",
   "execution_count": 20,
   "metadata": {},
   "outputs": [],
   "source": [
    "merged_df.to_csv('../data/merged.csv', index = False)"
   ]
  },
  {
   "cell_type": "code",
   "execution_count": null,
   "metadata": {},
   "outputs": [],
   "source": []
  }
 ],
 "metadata": {
  "kernelspec": {
   "display_name": "Python 3",
   "language": "python",
   "name": "python3"
  },
  "language_info": {
   "codemirror_mode": {
    "name": "ipython",
    "version": 3
   },
   "file_extension": ".py",
   "mimetype": "text/x-python",
   "name": "python",
   "nbconvert_exporter": "python",
   "pygments_lexer": "ipython3",
   "version": "3.8.5"
  }
 },
 "nbformat": 4,
 "nbformat_minor": 4
}
